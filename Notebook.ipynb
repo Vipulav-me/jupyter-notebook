{
 "cells": [
  {
   "cell_type": "markdown",
   "id": "29cb9340-0575-4a78-adec-280351d51e21",
   "metadata": {},
   "source": [
    "# Data Science Tools and Ecosystem"
   ]
  },
  {
   "cell_type": "markdown",
   "id": "83bfa040-5a9d-46f2-9f47-2c95c35d971a",
   "metadata": {},
   "source": [
    "In this notebook, Data Science Tools and Ecosystem are summarized."
   ]
  },
  {
   "cell_type": "markdown",
   "id": "0fa8f4a6-ad7d-4ab5-9960-e8d053bccae2",
   "metadata": {},
   "source": [
    "Some of the popular languages that Data Scientists use are:\n",
    "1. Python\n",
    "2. R\n",
    "3. SQL"
   ]
  },
  {
   "cell_type": "markdown",
   "id": "08678bc2-d766-424e-b206-6ef662464157",
   "metadata": {},
   "source": [
    "Some of the commonly used libraries used by Data Scientists include:\n",
    "1. Numpy\n",
    "2. Pandas\n",
    "3. Matplotlib"
   ]
  },
  {
   "cell_type": "markdown",
   "id": "2953a348-0d38-4feb-a6b2-a067bd333ab3",
   "metadata": {},
   "source": [
    "\n",
    "| Data Science Tools |\n",
    "| ----------------- |\n",
    "|Jupyter Lab|\n",
    "|RStudio|\n",
    "|VS Code|\n"
   ]
  },
  {
   "cell_type": "markdown",
   "id": "e2a781ca-1c8c-4bef-a166-578266fcfe91",
   "metadata": {},
   "source": [
    "### Below are a few examples of evaluating arithmetic expressions in Python."
   ]
  },
  {
   "cell_type": "code",
   "execution_count": 20,
   "id": "24a1d228-2bc4-4e37-abb8-3767ea1cc400",
   "metadata": {},
   "outputs": [
    {
     "name": "stdout",
     "output_type": "stream",
     "text": [
      "17\n"
     ]
    }
   ],
   "source": [
    "#This a simple arithmetic expression to mutiply then add integers\n",
    "print((3*4)+5)\n"
   ]
  },
  {
   "cell_type": "code",
   "execution_count": 29,
   "id": "58a1ba56-a151-4f87-8be9-ad051ae8dda7",
   "metadata": {},
   "outputs": [
    {
     "name": "stdout",
     "output_type": "stream",
     "text": [
      "3.3333333333333335 hours\n"
     ]
    }
   ],
   "source": [
    "#This will convert 200 minutes to hours by diving by 60\n",
    "no_of_hours = 200/60\n",
    "print(no_of_hours,\"hours\")"
   ]
  },
  {
   "cell_type": "markdown",
   "id": "a8ae0ddc-668e-424d-bd15-2b26b8a0c329",
   "metadata": {},
   "source": [
    "**Objectives**\n",
    "\n",
    "* List popular languages for Data Science\n",
    "* Explore common Data Science libraries and frameworks\n",
    "* Demonstrate basic arithmetic operations in Python"
   ]
  },
  {
   "cell_type": "markdown",
   "id": "25afd96b-0832-4381-8325-4a2f5e92730d",
   "metadata": {},
   "source": [
    "## Author\n",
    "Vipulav Batra"
   ]
  },
  {
   "cell_type": "code",
   "execution_count": null,
   "id": "e95d7553-d17f-4bba-b9ab-ece94af781bb",
   "metadata": {},
   "outputs": [],
   "source": []
  }
 ],
 "metadata": {
  "kernelspec": {
   "display_name": "Python 3 (ipykernel)",
   "language": "python",
   "name": "python3"
  },
  "language_info": {
   "codemirror_mode": {
    "name": "ipython",
    "version": 3
   },
   "file_extension": ".py",
   "mimetype": "text/x-python",
   "name": "python",
   "nbconvert_exporter": "python",
   "pygments_lexer": "ipython3",
   "version": "3.12.4"
  }
 },
 "nbformat": 4,
 "nbformat_minor": 5
}
